{
 "cells": [
  {
   "cell_type": "markdown",
   "metadata": {},
   "source": [
    "# Continuous Control\n",
    "\n",
    "---\n",
    "\n",
    "This is my 3rd project in the deep RL course offered by Udacity. [Deep Reinforcement Learning Nanodegree](https://www.udacity.com/course/deep-reinforcement-learning-nanodegree--nd893) program.\n",
    "\n",
    "### 1. Start the Environment\n",
    "\n",
    "We begin by importing the necessary packages.  If the code cell below returns an error, please revisit the project instructions to double-check that you have installed [Unity ML-Agents](https://github.com/Unity-Technologies/ml-agents/blob/master/docs/Installation.md) "
   ]
  },
  {
   "cell_type": "code",
   "execution_count": 1,
   "metadata": {},
   "outputs": [],
   "source": [
    "from unityagents import UnityEnvironment\n",
    "import numpy as np\n",
    "import pandas as pd\n",
    "from ddpg_multiagent import Agent\n",
    "from collections import deque\n",
    "import matplotlib.pyplot as plt\n",
    "%matplotlib inline\n",
    "import torch"
   ]
  },
  {
   "cell_type": "code",
   "execution_count": 2,
   "metadata": {},
   "outputs": [
    {
     "name": "stderr",
     "output_type": "stream",
     "text": [
      "INFO:unityagents:\n",
      "'Academy' started successfully!\n",
      "Unity Academy name: Academy\n",
      "        Number of Brains: 1\n",
      "        Number of External Brains : 1\n",
      "        Lesson number : 0\n",
      "        Reset Parameters :\n",
      "\t\t\n",
      "Unity brain name: TennisBrain\n",
      "        Number of Visual Observations (per agent): 0\n",
      "        Vector Observation space type: continuous\n",
      "        Vector Observation space size (per agent): 8\n",
      "        Number of stacked Vector Observation: 3\n",
      "        Vector Action space type: continuous\n",
      "        Vector Action space size (per agent): 2\n",
      "        Vector Action descriptions: , \n"
     ]
    }
   ],
   "source": [
    "env = UnityEnvironment(file_name=\"Tennis_Linux/Tennis.x86_64\")"
   ]
  },
  {
   "cell_type": "markdown",
   "metadata": {},
   "source": [
    "Environments contain **_brains_** which are responsible for deciding the actions of their associated agents. Here we check for the first brain available, and set it as the default brain we will be controlling from Python."
   ]
  },
  {
   "cell_type": "code",
   "execution_count": 3,
   "metadata": {},
   "outputs": [],
   "source": [
    "# get the default brain\n",
    "brain_name = env.brain_names[0]\n",
    "brain = env.brains[brain_name]"
   ]
  },
  {
   "cell_type": "markdown",
   "metadata": {},
   "source": [
    "# Explore the env "
   ]
  },
  {
   "cell_type": "code",
   "execution_count": 4,
   "metadata": {},
   "outputs": [
    {
     "name": "stdout",
     "output_type": "stream",
     "text": [
      "Number of agents: 2\n",
      "Size of each action: 2\n",
      "There are 2 agents. Each observes a state with length: 24\n",
      "The state for the first agent looks like: [ 0.          0.          0.          0.          0.          0.\n",
      "  0.          0.          0.          0.          0.          0.\n",
      "  0.          0.          0.          0.         -6.65278625 -1.5\n",
      " -0.          0.          6.83172083  6.         -0.          0.        ]\n"
     ]
    }
   ],
   "source": [
    "# reset the environment\n",
    "env_itter = env.reset(train_mode=False)[brain_name]\n",
    "\n",
    "# number of agents\n",
    "num_agents = len(env_itter.agents)\n",
    "print('Number of agents:', num_agents)\n",
    "\n",
    "# size of each action\n",
    "action_size = brain.vector_action_space_size\n",
    "print('Size of each action:', action_size)\n",
    "\n",
    "# examine the state space \n",
    "states = env_itter.vector_observations\n",
    "state_size = states.shape[1]\n",
    "print('There are {} agents. Each observes a state with length: {}'.format(states.shape[0], state_size))\n",
    "print('The state for the first agent looks like:', states[0])"
   ]
  },
  {
   "cell_type": "markdown",
   "metadata": {},
   "source": [
    "# DDPG Agent & Model Architecture Explanation\n",
    "\n",
    "\n",
    "#### DDPG Agent\n",
    "DDPG is very similar to the DQN agent, but is well suited for continuous problem spaces. \n",
    "\n",
    "It consists of two neural networks that work together to solve a continuous learning problem. The actor network models the agent's actions (policy based approach), while the critic network uses the actor networks action to approximate the maximizer of Qvalues in the next state (value based approach).\n",
    "\n",
    "This key adjustment makes it different from other actor-critic agents, and more similar to a DQN learning approach. \n",
    "\n",
    "DDPG utilizes a replay buffer, soft-update logic (similar to DQN), and incorporates a noise adjustment to predicted actions (from the actor network) to stabilize learning. \n",
    "\n",
    "This implementation of DDPG can train multiple agents at one time. The key to this approach is appending each agents state, action, reward, next_state, done tuple to the replay buffer (and sampling from the shared experience). All the same agents are trained off the same actor-critic networks. Instead of one learning adjustment per action step, the network makes 'n' adjustments. Taking more learning steps (from the shared replay buffer) allow for faster training.\n",
    "\n",
    "### Network Architecture\n",
    "I have two networks that compose my DDPG agent.\n",
    "\n",
    "#### Actor\n",
    "- consists of four fully connected layers\n",
    "- relu activations in between each layer, and a tanh activation on the output\n",
    "- the state inputs are put though a bachnorm layer before being fed into the netowrk\n",
    "- there outputs of the first fully connected layer are put through a bachnorm layer as well\n",
    "- the first layer has 400 nodes, and all the other layers contain 300\n",
    "\n",
    "#### Critic\n",
    "- consists of four fully connected layers\n",
    "- each layer has a leaky relu activation \n",
    "- after the first fully connected layer, we concat the output with teh action predictions from the actor network\n",
    "- this gets fed through the last 3 fully connected layers\n",
    "- the first layer has 400 nodes, and all the other layers contain 300\n",
    "\n",
    "\n",
    "### Hyperparameters\n",
    "I chose to implement four learning steps as my 'n step' parameter. This allows for the agents to learn quickly, but provides enough stability keep the networks from over-adjusting/over-fitting early on in training (before they have had time to explore the full environment). \n",
    "\n",
    "The actor has a LR of 1e-4, and the critic has a LR of 3e-4. I do not decay the L2 weights on the ADAM optimizer for the actor and critic. \n",
    "\n",
    "I also include a scale factor (1/sqrt(episode #)) to the noise adjustment. This lets the model rely more on its predictions (from the actor network) as the training steps go forward. This enabled the current model architecture to solve the environment. \n",
    "\n",
    "In this experiment, I do not discount future rewards. \n"
   ]
  },
  {
   "cell_type": "markdown",
   "metadata": {},
   "source": [
    "# Lets train the DDPG Agent!"
   ]
  },
  {
   "cell_type": "code",
   "execution_count": 5,
   "metadata": {},
   "outputs": [],
   "source": [
    "agent = Agent(state_size=state_size,\n",
    "              action_size=action_size, random_seed=777,discount_rew=False)"
   ]
  },
  {
   "cell_type": "code",
   "execution_count": 6,
   "metadata": {
    "scrolled": false
   },
   "outputs": [
    {
     "name": "stdout",
     "output_type": "stream",
     "text": [
      "Episode 25\tAverage Score: 0.00\tMin Score: 0.00\tMax Score: 0.00\tEpisode score: -0.00\n",
      "Episode 50\tAverage Score: 0.00\tMin Score: 0.00\tMax Score: 0.00\tEpisode score: -0.00\n",
      "Episode 75\tAverage Score: 0.00\tMin Score: 0.00\tMax Score: 0.00\tEpisode score: -0.00\n",
      "Episode 100\tAverage Score: 0.00\tMin Score: 0.00\tMax Score: 0.09\tEpisode score: -0.00\n",
      "Episode 125\tAverage Score: 0.00\tMin Score: 0.00\tMax Score: 0.09\tEpisode score: -0.00\n",
      "Episode 150\tAverage Score: 0.00\tMin Score: 0.00\tMax Score: 0.09\tEpisode score: -0.00\n",
      "Episode 175\tAverage Score: 0.00\tMin Score: 0.00\tMax Score: 0.09\tEpisode score: -0.00\n",
      "Episode 200\tAverage Score: 0.00\tMin Score: 0.00\tMax Score: 0.10\tEpisode score: 0.050\n",
      "Episode 225\tAverage Score: 0.02\tMin Score: 0.00\tMax Score: 0.10\tEpisode score: 0.050\n",
      "Episode 250\tAverage Score: 0.04\tMin Score: 0.00\tMax Score: 0.19\tEpisode score: 0.150\n",
      "Episode 275\tAverage Score: 0.07\tMin Score: 0.00\tMax Score: 0.40\tEpisode score: 0.05\n",
      "Episode 300\tAverage Score: 0.09\tMin Score: 0.00\tMax Score: 0.40\tEpisode score: 0.05\n",
      "Episode 325\tAverage Score: 0.14\tMin Score: 0.00\tMax Score: 2.60\tEpisode score: 2.60\n",
      "Episode 350\tAverage Score: 0.31\tMin Score: 0.00\tMax Score: 2.60\tEpisode score: 0.050\n",
      "Episode 375\tAverage Score: 0.40\tMin Score: 0.00\tMax Score: 2.60\tEpisode score: 0.150\n",
      "Episode 400\tAverage Score: 0.54\tMin Score: 0.00\tMax Score: 2.70\tEpisode score: 0.15\n",
      "Episode 425\tAverage Score: 0.54\tMin Score: 0.00\tMax Score: 2.70\tEpisode score: 0.15\n",
      "Episode 450\tAverage Score: 0.66\tMin Score: 0.00\tMax Score: 2.70\tEpisode score: 0.60\n",
      "Episode 475\tAverage Score: 0.73\tMin Score: 0.00\tMax Score: 2.70\tEpisode score: 2.050\n",
      "Episode 500\tAverage Score: 0.76\tMin Score: 0.00\tMax Score: 2.70\tEpisode score: 2.45\n",
      "Episode 525\tAverage Score: 0.94\tMin Score: 0.00\tMax Score: 2.70\tEpisode score: 0.75\n",
      "Episode 550\tAverage Score: 1.10\tMin Score: 0.00\tMax Score: 2.70\tEpisode score: 2.50\n",
      "Episode 575\tAverage Score: 1.37\tMin Score: 0.09\tMax Score: 2.70\tEpisode score: 1.70\n",
      "Episode 600\tAverage Score: 1.65\tMin Score: 0.00\tMax Score: 2.70\tEpisode score: 2.650\n",
      "Episode 625\tAverage Score: 1.96\tMin Score: 0.00\tMax Score: 2.70\tEpisode score: 2.65\n",
      "Episode 650\tAverage Score: 2.06\tMin Score: 0.00\tMax Score: 2.70\tEpisode score: 2.65\n",
      "Episode 675\tAverage Score: 2.19\tMin Score: 0.00\tMax Score: 2.70\tEpisode score: 2.60\n",
      "Episode 700\tAverage Score: 2.14\tMin Score: 0.10\tMax Score: 2.70\tEpisode score: 2.65\n",
      "Episode 725\tAverage Score: 2.09\tMin Score: 0.00\tMax Score: 2.70\tEpisode score: 0.050\n",
      "Episode 750\tAverage Score: 2.08\tMin Score: 0.00\tMax Score: 2.70\tEpisode score: 2.65\n",
      "Episode 775\tAverage Score: 2.04\tMin Score: 0.00\tMax Score: 2.70\tEpisode score: 0.15\n",
      "Episode 800\tAverage Score: 2.12\tMin Score: 0.00\tMax Score: 2.70\tEpisode score: 2.60\n",
      "Episode 825\tAverage Score: 2.14\tMin Score: 0.00\tMax Score: 2.70\tEpisode score: 2.650\n",
      "Episode 850\tAverage Score: 2.24\tMin Score: 0.00\tMax Score: 2.70\tEpisode score: 2.65\n",
      "Episode 875\tAverage Score: 2.31\tMin Score: 0.00\tMax Score: 2.70\tEpisode score: 2.60\n",
      "Episode 900\tAverage Score: 2.42\tMin Score: 0.00\tMax Score: 2.70\tEpisode score: 2.600\n",
      "Episode 925\tAverage Score: 2.41\tMin Score: 0.00\tMax Score: 2.70\tEpisode score: 2.550\n",
      "Episode 950\tAverage Score: 2.28\tMin Score: 0.00\tMax Score: 2.70\tEpisode score: 2.650\n",
      "Episode 975\tAverage Score: 2.18\tMin Score: 0.00\tMax Score: 2.70\tEpisode score: 2.60\n",
      "Episode 1000\tAverage Score: 2.01\tMin Score: 0.00\tMax Score: 2.70\tEpisode score: 0.05\n"
     ]
    },
    {
     "data": {
      "image/png": "[encoded data removed]",
      "text/plain": [
       "<matplotlib.figure.Figure at 0x7f2261985b38>"
      ]
     },
     "metadata": {},
     "output_type": "display_data"
    }
   ],
   "source": [
    "def ddpg(n_episodes=1000, max_t=1000):\n",
    "    scores_deque = deque(maxlen=100)\n",
    "    scores = []\n",
    "    for i_episode in range(1, n_episodes+1):\n",
    "        #restart env \n",
    "        env_itter = env.reset(train_mode=True)[brain_name] #note training = True here\n",
    "        #grab state of agents\n",
    "        state =env_itter.vector_observations\n",
    "        agent.reset()\n",
    "        score = np.zeros(len(env_itter.agents)) \n",
    "        \n",
    "        for t in range(max_t):\n",
    "            #select an action for each agent based off learned weights\n",
    "            #put a 1 instead of i_episodes if you do not want to decay the noise param\n",
    "            action = agent.act(state,i_episode,add_noise=True)\n",
    "            #send agents into env\n",
    "            env_itter = env.step(action)[brain_name]  \n",
    "            \n",
    "            #pull out env results\n",
    "            rewards = env_itter.rewards                      \n",
    "            dones = env_itter.local_done\n",
    "            next_states =env_itter.vector_observations\n",
    "            #train agents\n",
    "            agent.step(state, action, rewards, next_states, dones)\n",
    "            score += rewards      \n",
    "            state = next_states \n",
    "            #check if any agents finished\n",
    "            if np.any(dones):\n",
    "                break \n",
    "                \n",
    "        #note we now only append the max score over both agents to the final score tally\n",
    "        scores_deque.append(np.max(score))\n",
    "        scores.append(np.max(score))\n",
    "\n",
    "        print('\\rEpisode {}\\tAverage Score: {:.2f}\\tMin Score: {:.2f}\\tMax Score: {:.2f}\\tEpisode score: {:.2f}'.format(i_episode, np.mean(scores_deque),np.min(scores_deque),np.max(scores_deque),np.mean(score)), end=\"\")\n",
    "        if i_episode % 25 == 0:\n",
    "            torch.save(agent.actor_local.state_dict(), 'checkpoint_actor.pth')\n",
    "            torch.save(agent.critic_local.state_dict(), 'checkpoint_critic.pth')\n",
    "            print('\\rEpisode {}\\tAverage Score: {:.2f}'.format(i_episode, np.mean(scores_deque)))   \n",
    "        \n",
    "#         if np.mean(scores_deque) >= 0.5:\n",
    "#             print('\\nDone! Solved task in {} Episodes'.format(i_episode))\n",
    "#             torch.save(agent.actor_local.state_dict(), 'solved_actor.pth')\n",
    "#             torch.save(agent.critic_local.state_dict(), 'solved_critic.pth')\n",
    "#             break\n",
    "    \n",
    "    return scores\n",
    "\n",
    "\n",
    "scores = ddpg()\n",
    "\n",
    "fig = plt.figure()\n",
    "ax = fig.add_subplot(111)\n",
    "plt.plot(np.arange(1, len(scores)+1), scores)\n",
    "plt.ylabel('Score')\n",
    "plt.xlabel('Episode #')\n",
    "plt.show()"
   ]
  },
  {
   "cell_type": "code",
   "execution_count": 13,
   "metadata": {},
   "outputs": [],
   "source": [
    "#save out the score file\n",
    "import pandas as pd\n",
    "pd.DataFrame(scores).to_csv('results.csv')"
   ]
  },
  {
   "cell_type": "markdown",
   "metadata": {},
   "source": [
    "## Nice, we solved the env in ~400 episodes!!\n",
    "\n",
    "The learning looks farily stable with this model arch and weighted noise approach.\n",
    "\n",
    "This version of DDPG makes 4 learning steps (4 samples from the replay buffer, and passes over the model). I thought this might yield an unstable agent; however, the agents are able to learn quickly and the performance does not degrade. In another test (over 2K episodes) the score slowly started to decrease after peaking at ~2.5 for a few hundred episodes. The number of agent steps should be experimented with to achieve optimal performance in the future. \n"
   ]
  },
  {
   "cell_type": "markdown",
   "metadata": {},
   "source": [
    "# Ideas for future work"
   ]
  },
  {
   "cell_type": "markdown",
   "metadata": {},
   "source": [
    "Much like the other implementation of DDPG on the reacher environment, I think my model architecture can be optimized. Normalizing the input for the critic network should improve the agents stability, enhancing long term performance. \n",
    "\n",
    "I really want to implement a PPO agent and compare/contrast the performance with my DDPG version. I will start with a basic PPO agent, and then replicate the DOTA playing one. This should enhance my understanding of a few actor/critic algorithms for multiple agent RL problems!\n",
    "\n",
    "These agents had very poor performance for the first 200 episodes. Experimenting with adding a prioritized replay buffer could help jump start the initial learning hurdles seen here. \n",
    "\n",
    "As I stated before, experimenting with the number of learning steps the network takes is a great next step. This will enhance my understanding of how much the agents learn off each sample of the replay buffer. \n",
    "\n",
    "I would also like to remove the noise scaler and allow the agents to experiment with their actions more. this might make it harder to learn initially, but they might benefit in the long run from exploring the state space for a longer period of time. \n",
    "\n",
    "Just as I stated in my last implementation of DDPG, it would be interesting to see if an RNN architecture could improve the results. Capturing temporal dependencies among past actions could improve the agents ability to discern optimal actions at the current time step. Combining the actor network with a Bidirectional LSTM encoder/decoder architecture will be my next experiment!\n",
    "\n"
   ]
  },
  {
   "cell_type": "markdown",
   "metadata": {},
   "source": [
    "### Thank you Udacity for the course content and lesson structure that made this possible! I learned a ton from the RL work and am excited to continue exploration on my own"
   ]
  }
 ],
 "metadata": {
  "kernelspec": {
   "display_name": "Python 3",
   "language": "python",
   "name": "python3"
  },
  "language_info": {
   "codemirror_mode": {
    "name": "ipython",
    "version": 3
   },
   "file_extension": ".py",
   "mimetype": "text/x-python",
   "name": "python",
   "nbconvert_exporter": "python",
   "pygments_lexer": "ipython3",
   "version": "3.6.4"
  }
 },
 "nbformat": 4,
 "nbformat_minor": 2
}
